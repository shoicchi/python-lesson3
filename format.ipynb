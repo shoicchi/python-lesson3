{
 "cells": [
  {
   "cell_type": "code",
   "execution_count": 10,
   "metadata": {},
   "outputs": [
    {
     "data": {
      "text/plain": [
       "'Guido loves Python ! '"
      ]
     },
     "execution_count": 10,
     "metadata": {},
     "output_type": "execute_result"
    }
   ],
   "source": [
    "# 基本文法\n",
    "\"{} loves Python ! \".format('Guido')"
   ]
  },
  {
   "cell_type": "code",
   "execution_count": 11,
   "metadata": {},
   "outputs": [
    {
     "name": "stdout",
     "output_type": "stream",
     "text": [
      "<a href=\"http://python.org\">python.org</a>\n",
      "<a href=\"http://pypy.org\">pypy.org</a>\n",
      "<a href=\"http://cython.org\">cython.org</a>\n"
     ]
    }
   ],
   "source": [
    "# 複数の同時差込み\n",
    "linkster = '<a href=\"{}\">{}</a>'\n",
    "for i in [ 'http://python.org',\n",
    "          'http://pypy.org',\n",
    "          'http://cython.org',\n",
    "         ]:\n",
    "    print(linkster.format(i, i.replace('http://', '')))"
   ]
  },
  {
   "cell_type": "code",
   "execution_count": 13,
   "metadata": {},
   "outputs": [
    {
     "data": {
      "text/plain": [
       "'Spam Ham Spam'"
      ]
     },
     "execution_count": 13,
     "metadata": {},
     "output_type": "execute_result"
    }
   ],
   "source": [
    "# 引数の順番を指定して差し込む\n",
    "\"{0} {1} {0}\".format(\"Spam\", \"Ham\")"
   ]
  },
  {
   "cell_type": "code",
   "execution_count": 15,
   "metadata": {},
   "outputs": [
    {
     "data": {
      "text/plain": [
       "'Spam Ham Spam'"
      ]
     },
     "execution_count": 15,
     "metadata": {},
     "output_type": "execute_result"
    }
   ],
   "source": [
    "# キーワード引数を指定して差し込む\n",
    "\"{food1} {food2} {food1}\".format(food1=\"Spam\", food2=\"Ham\")"
   ]
  },
  {
   "cell_type": "code",
   "execution_count": 18,
   "metadata": {},
   "outputs": [
    {
     "data": {
      "text/plain": [
       "\"1964 is Guido's birthyear.\""
      ]
     },
     "execution_count": 18,
     "metadata": {},
     "output_type": "execute_result"
    }
   ],
   "source": [
    "# ディクショナリを指定した痴漢\n",
    "dic = {\"name\":\"Guido\", \"birthyear\":\"1964\"}\n",
    "\"{0[birthyear]} is {0[name]}'s birthyear.\".format(dic)"
   ]
  },
  {
   "cell_type": "code",
   "execution_count": 22,
   "metadata": {},
   "outputs": [
    {
     "data": {
      "text/plain": [
       "'Python version: 3.7.3 (default, Mar 27 2019, 16:54:48) \\n[Clang 4.0.1 (tags/RELEASE_401/final)]'"
      ]
     },
     "execution_count": 22,
     "metadata": {},
     "output_type": "execute_result"
    }
   ],
   "source": [
    "# オブジェクトのアトリビュートを指定して差し込む\n",
    "import sys\n",
    "\"Python version: {0.version}\".format(sys)"
   ]
  },
  {
   "cell_type": "code",
   "execution_count": 30,
   "metadata": {},
   "outputs": [
    {
     "data": {
      "text/plain": [
       "'Spam            300'"
      ]
     },
     "execution_count": 30,
     "metadata": {},
     "output_type": "execute_result"
    }
   ],
   "source": [
    "# 埋め込む文字列のフォーマット指定\n",
    "tmpl = \"{0:10} {1:>8}\"\n",
    "tmpl.format(\"Spam\", 300)\n"
   ]
  },
  {
   "cell_type": "code",
   "execution_count": 44,
   "metadata": {},
   "outputs": [
    {
     "data": {
      "text/plain": [
       "'2.50%'"
      ]
     },
     "execution_count": 44,
     "metadata": {},
     "output_type": "execute_result"
    }
   ],
   "source": [
    "# 埋め込む文字列の表記指定\n",
    "\"{:.2%}\".format(1/40)"
   ]
  },
  {
   "cell_type": "code",
   "execution_count": 45,
   "metadata": {},
   "outputs": [
    {
     "data": {
      "text/plain": [
       "'まずは君が落ち着け'"
      ]
     },
     "execution_count": 45,
     "metadata": {},
     "output_type": "execute_result"
    }
   ],
   "source": [
    "# f文字列\n",
    "name = \"君\"\n",
    "f\"まずは{name}が落ち着け\""
   ]
  }
 ],
 "metadata": {
  "kernelspec": {
   "display_name": "Python 3",
   "language": "python",
   "name": "python3"
  },
  "language_info": {
   "codemirror_mode": {
    "name": "ipython",
    "version": 3
   },
   "file_extension": ".py",
   "mimetype": "text/x-python",
   "name": "python",
   "nbconvert_exporter": "python",
   "pygments_lexer": "ipython3",
   "version": "3.7.3"
  }
 },
 "nbformat": 4,
 "nbformat_minor": 2
}
