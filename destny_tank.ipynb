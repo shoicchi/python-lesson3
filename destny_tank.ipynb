{
 "cells": [
  {
   "cell_type": "code",
   "execution_count": 2,
   "metadata": {},
   "outputs": [],
   "source": [
    "def iphone():\n",
    "    model = [\"iphoneX\", \"iphoneXR\", \"iphoneXS\", \"iphoneXS max\", \"iphone11\", \"iphone11 pro\"]\n",
    "    num = input(\"好きな数字を入力してください：\")\n",
    "    idx = int(num)%len(model)\n",
    "    print(\"あなたにおすすめの機種は\")\n",
    "    print(model[idx])\n",
    "    "
   ]
  },
  {
   "cell_type": "code",
   "execution_count": 6,
   "metadata": {},
   "outputs": [
    {
     "name": "stdout",
     "output_type": "stream",
     "text": [
      "好きな数字を入力してください：213\n",
      "あなたにおすすめの機種は\n",
      "iphoneXS max\n"
     ]
    }
   ],
   "source": [
    "iphone()"
   ]
  },
  {
   "cell_type": "code",
   "execution_count": null,
   "metadata": {},
   "outputs": [],
   "source": []
  }
 ],
 "metadata": {
  "kernelspec": {
   "display_name": "Python 3",
   "language": "python",
   "name": "python3"
  },
  "language_info": {
   "codemirror_mode": {
    "name": "ipython",
    "version": 3
   },
   "file_extension": ".py",
   "mimetype": "text/x-python",
   "name": "python",
   "nbconvert_exporter": "python",
   "pygments_lexer": "ipython3",
   "version": "3.7.3"
  }
 },
 "nbformat": 4,
 "nbformat_minor": 2
}
