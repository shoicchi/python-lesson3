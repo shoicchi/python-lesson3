{
 "cells": [
  {
   "cell_type": "code",
   "execution_count": 2,
   "metadata": {},
   "outputs": [
    {
     "data": {
      "text/plain": [
       "40075.008348208"
      ]
     },
     "execution_count": 2,
     "metadata": {},
     "output_type": "execute_result"
    }
   ],
   "source": [
    "# 赤道面での地球の演習を計算\n",
    "pi = 3.141592# 円周率\n",
    "diameter = 12756.274# 赤道面における地球の直径\n",
    "pi * diameter"
   ]
  },
  {
   "cell_type": "code",
   "execution_count": 3,
   "metadata": {},
   "outputs": [
    {
     "data": {
      "text/plain": [
       "15.463917525773196"
      ]
     },
     "execution_count": 3,
     "metadata": {},
     "output_type": "execute_result"
    }
   ],
   "source": [
    "# ジョギングで一キロ脂肪を燃焼するのにかかる時間を計算\n",
    "cal_per_1kg = 7200#脂肪一キロ燃焼に必要なカロリー\n",
    "cal_per_1minjog = 7.76# ジョギング１分の消費カロリー\n",
    "min_to_lose1kg = cal_per_1kg/cal_per_1minjog\n",
    "hours_to_lose1kg = min_to_lose1kg/60# 分→時間に換算\n",
    "hours_to_lose1kg\n"
   ]
  },
  {
   "cell_type": "code",
   "execution_count": null,
   "metadata": {},
   "outputs": [],
   "source": []
  }
 ],
 "metadata": {
  "kernelspec": {
   "display_name": "Python 3",
   "language": "python",
   "name": "python3"
  },
  "language_info": {
   "codemirror_mode": {
    "name": "ipython",
    "version": 3
   },
   "file_extension": ".py",
   "mimetype": "text/x-python",
   "name": "python",
   "nbconvert_exporter": "python",
   "pygments_lexer": "ipython3",
   "version": "3.7.3"
  }
 },
 "nbformat": 4,
 "nbformat_minor": 2
}
