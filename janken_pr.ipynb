{
 "cells": [
  {
   "cell_type": "code",
   "execution_count": 1,
   "metadata": {},
   "outputs": [
    {
     "name": "stdout",
     "output_type": "stream",
     "text": [
      "0:グー 1:チョキ 2:パー 3:ジャンケンをやめる1\n",
      "あなたの出した手はチョキ、コンピュータの出した手はチョキ\n",
      "あいこ\n",
      "0:グー 1:チョキ 2:パー 3:ジャンケンをやめる2\n",
      "あなたの出した手はパー、コンピュータの出した手はパー\n",
      "あいこ\n",
      "0:グー 1:チョキ 2:パー 3:ジャンケンをやめる3\n"
     ]
    }
   ],
   "source": [
    "from random import randint\n",
    "hands = {0:\"グー\", 1:\"チョキ\", 2:\"パー\"}\n",
    "rules = {(0, 0):\"あいこ\", (0, 1):\"勝ち\", (0, 2):\"負け\",\n",
    "         (1, 0):\"負け\", (1, 1):\"あいこ\", (1, 2):\"勝ち\",\n",
    "         (2, 0):\"勝ち\", (2, 1):\"負け\", (2, 2):\"あいこ\"\n",
    "        }\n",
    "\n",
    "while True:\n",
    "    pc_hand = randint(0, 2)\n",
    "    user_hand_str = input(\"0:グー 1:チョキ 2:パー 3:ジャンケンをやめる\")\n",
    "    if user_hand_str == \"3\":\n",
    "        break\n",
    "    if user_hand_str not in (\"0\", \"1\", \"2\"):\n",
    "        continue\n",
    "    user_hand = int(user_hand_str)\n",
    "    print(\"あなたの出した手は\"+hands[user_hand]+\"、コンピュータの出した手は\"+hands[pc_hand])\n",
    "    print(rules[(user_hand, pc_hand)])"
   ]
  }
 ],
 "metadata": {
  "kernelspec": {
   "display_name": "Python 3",
   "language": "python",
   "name": "python3"
  },
  "language_info": {
   "codemirror_mode": {
    "name": "ipython",
    "version": 3
   },
   "file_extension": ".py",
   "mimetype": "text/x-python",
   "name": "python",
   "nbconvert_exporter": "python",
   "pygments_lexer": "ipython3",
   "version": "3.7.3"
  }
 },
 "nbformat": 4,
 "nbformat_minor": 2
}
